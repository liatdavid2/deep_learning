{
  "nbformat": 4,
  "nbformat_minor": 0,
  "metadata": {
    "colab": {
      "provenance": [],
      "machine_shape": "hm"
    },
    "kernelspec": {
      "name": "python3",
      "display_name": "Python 3"
    },
    "language_info": {
      "name": "python"
    },
    "accelerator": "GPU",
    "gpuClass": "standard"
  },
  "cells": [
    {
      "cell_type": "markdown",
      "source": [
        "# Data augmentation using keras"
      ],
      "metadata": {
        "id": "kTJQpKIwxbew"
      }
    },
    {
      "cell_type": "code",
      "execution_count": 1,
      "metadata": {
        "id": "zWt2P8VSxW33"
      },
      "outputs": [],
      "source": [
        "# https://youtu.be/ccdssX4rIh8\n",
        "\"\"\"\n",
        "@author: Sreenivas Bhattiprolu\n",
        "Image shifts via the width_shift_range and height_shift_range arguments.\n",
        "Image flips via the horizontal_flip and vertical_flip arguments.\n",
        "Image rotations via the rotation_range argument\n",
        "Image brightness via the brightness_range argument.\n",
        "Image zoom via the zoom_range argument.\n",
        "\"\"\"\n",
        "\n",
        "from keras.preprocessing.image import ImageDataGenerator\n",
        "from skimage import io"
      ]
    },
    {
      "cell_type": "code",
      "source": [
        "# Construct an instance of the ImageDataGenerator class\n",
        "# Pass the augmentation parameters through the constructor. \n",
        "\n",
        "datagen = ImageDataGenerator(\n",
        "        rotation_range=45,     #Random rotation between 0 and 45\n",
        "        width_shift_range=0.2,   #% shift\n",
        "        height_shift_range=0.2,\n",
        "        shear_range=0.2,\n",
        "        zoom_range=0.2,\n",
        "        horizontal_flip=True,\n",
        "        fill_mode='reflect', cval=125)    #Also try nearest, constant, reflect, wrap"
      ],
      "metadata": {
        "id": "hcDMoOrdkUc4"
      },
      "execution_count": 5,
      "outputs": []
    },
    {
      "cell_type": "code",
      "source": [
        "#####################################################################\n",
        "#Multiclass. Read dirctly from the folder structure using flow_from_directory\n",
        "\n",
        "i = 0\n",
        "for batch in datagen.flow_from_directory(directory='monalisa_einstein/', \n",
        "                                         batch_size=16,  \n",
        "                                         target_size=(256, 256),\n",
        "                                         color_mode=\"rgb\",\n",
        "                                         save_to_dir='augmented', \n",
        "                                         save_prefix='aug', \n",
        "                                         save_format='png'):\n",
        "    i += 1\n",
        "    if i > 31:\n",
        "        break \n",
        "\n",
        "#Creates 32 images for each class. \n",
        "        \n",
        "#Once data is augmented, you can use it to fit a model via: fit.generator"
      ],
      "metadata": {
        "colab": {
          "base_uri": "https://localhost:8080/"
        },
        "id": "Bg77rwV0ksqV",
        "outputId": "04e2b991-f9f2-4048-bccb-4a84edf7b7cf"
      },
      "execution_count": 6,
      "outputs": [
        {
          "output_type": "stream",
          "name": "stdout",
          "text": [
            "Found 2 images belonging to 3 classes.\n"
          ]
        }
      ]
    }
  ]
}